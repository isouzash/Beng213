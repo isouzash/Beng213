{
 "cells": [
  {
   "cell_type": "code",
   "execution_count": 1,
   "metadata": {},
   "outputs": [],
   "source": [
    "import pandas as pd\n",
    "import math\n",
    "import numpy as np\n",
    "import graphviz \n",
    "from sklearn import tree\n",
    "from sklearn.ensemble import RandomForestClassifier\n",
    "from sklearn.feature_selection import SelectFromModel, RFE\n",
    "from sklearn.model_selection import train_test_split, cross_val_score, GridSearchCV, StratifiedKFold\n",
    "from sklearn.pipeline import Pipeline\n",
    "from sklearn.svm import LinearSVC\n",
    "from sklearn.metrics import roc_curve, auc\n",
    "from sklearn.preprocessing import label_binarize\n",
    "import matplotlib.pyplot as plt"
   ]
  },
  {
   "cell_type": "code",
   "execution_count": null,
   "metadata": {},
   "outputs": [],
   "source": [
    "\"\"\"cancertypes = ['BLCA','BRCA','CESC','CHOL', COAD','ESCA','GBM','HNSC','KICH',\n",
    "                'KIRC','KIRP','LIHC','LUAD','LUSC','PAAD','PCPG','PRAD','READ',\n",
    "                'SARC','SKCM','STAD','THCA','THYM','UCEC']\"\"\"\n",
    "\n",
    "data_dir = \"../Data\"\n",
    "cancertypes = ['BLCA','BRCA','CESC', 'COAD','GBM','HNSC','KICH',\n",
    "               'KIRC','KIRP','LIHC','LUAD','LUSC','PRAD','READ',\n",
    "               'SKCM','STAD','THCA','UCEC']\n",
    "# cancertypes = ['BLCA','BRCA','CESC', 'COAD','GBM','HNSC','KICH']\n",
    "# Ignore CHOL, ESCA, PAAD, PCPG, SARC, THYM\n",
    "\n",
    "datatype = \"FPKM\" #  [\"FPKM\", \"FeatureCounts\", \"TPM\"]\n",
    "tissue = \"Tumor\"\n",
    "random_state = np.random.RandomState(0)"
   ]
  },
  {
   "cell_type": "markdown",
   "metadata": {},
   "source": [
    "#### Create numerical data set for Random Forest\n",
    "\n",
    "Question of interest to answer with this model: Can we predict tumor type based on gene expression?"
   ]
  },
  {
   "cell_type": "code",
   "execution_count": null,
   "metadata": {},
   "outputs": [],
   "source": [
    "dataframe_dict = dict()\n",
    "data = pd.DataFrame()\n",
    "for cancertype in cancertypes:\n",
    "    path = \"/\".join((data_dir, \"CSV\", \"%s_%s_%s.csv\" % (tissue, cancertype, datatype)))\n",
    "    df = pd.read_csv(path, index_col=0)\n",
    "    data = data.append(df)\n",
    "print(\"Samples: %i\\nGenes: %i\" % data.shape)\n",
    "data.head()"
   ]
  },
  {
   "cell_type": "markdown",
   "metadata": {},
   "source": [
    "Partition traning and testing datasets"
   ]
  },
  {
   "cell_type": "code",
   "execution_count": null,
   "metadata": {},
   "outputs": [],
   "source": [
    "target_map_dict = dict((i, cancertype) for i, cancertype in enumerate(cancertypes))\n",
    "target_array = pd.factorize(data['Tumor Type'])[0]\n",
    "train, test, target_array_training, target_array_testing = train_test_split(data, target_array, test_size=0.3)\n",
    "gene_names = [val for val in data.columns.values if val != \"Tumor Type\"]\n",
    "target_names = [v for v in target_map_dict.values()]\n",
    "\n",
    "print('Number of observations in the training data:', len(train))\n",
    "print('Number of observations in the test data:',len(test))\n",
    "print(target_map_dict)"
   ]
  },
  {
   "cell_type": "markdown",
   "metadata": {},
   "source": [
    "#### Cross Validation & determination of optimal parameters"
   ]
  },
  {
   "cell_type": "code",
   "execution_count": null,
   "metadata": {},
   "outputs": [],
   "source": [
    "pipeline = Pipeline([\n",
    "  ('feature_selection', SelectFromModel(LinearSVC(penalty=\"l2\"))),\n",
    "  ('classification', RandomForestClassifier(random_state=random_state))])\n",
    "\n",
    "\n",
    "\n",
    "param_grid = {\n",
    "    \"classification__n_estimators\": [10, 25, 50, 100], \n",
    "    \"classification__max_depth\": [5, 15],\n",
    "    \"classification__max_features\": [\"auto\"], \n",
    "    \"classification__criterion\": [\"gini\"],\n",
    "             }\n",
    "\n",
    "cv = StratifiedKFold(n_splits=10, random_state=random_state)\n",
    "\n",
    "grid = GridSearchCV(pipeline, cv=cv, param_grid=param_grid)\n",
    "grid.fit(train[gene_names], target_array_training)\n",
    "\n",
    "# summarize results\n",
    "print(\"Best: %f using %s\" % (grid.best_score_, \n",
    "    grid.best_params_))\n",
    "means = grid.cv_results_['mean_test_score']\n",
    "stds = grid.cv_results_['std_test_score']\n",
    "params = grid.cv_results_['params']\n",
    "for mean, stdev, param in zip(means, stds, params):\n",
    "    print(\"%f (%f) with: %r\" % (mean, stdev, param))\n",
    "    \n",
    "max_depth = grid.best_params_[\"classification__max_depth\"]\n",
    "n_trees = grid.best_params_[\"classification__n_estimators\"]\n",
    "max_features = grid.best_params_[\"classification__max_features\"]\n",
    "criterion = grid.best_params_[\"classification__criterion\"]"
   ]
  },
  {
   "cell_type": "markdown",
   "metadata": {},
   "source": [
    "#### Select Features, Make and Train Random Forest using best params"
   ]
  },
  {
   "cell_type": "code",
   "execution_count": null,
   "metadata": {},
   "outputs": [],
   "source": [
    "pipeline = Pipeline([\n",
    "  ('feature_selection', SelectFromModel(LinearSVC(penalty=\"l2\"))),\n",
    "  ('classification', RandomForestClassifier(n_estimators=n_trees, \n",
    "                                            criterion=criterion, \n",
    "                                            max_depth=max_depth, \n",
    "                                            max_features=max_features,\n",
    "                                            random_state=random_state))])\n",
    "\n",
    "clf = pipeline.fit(train[gene_names], target_array_training)\n",
    "clf = clf.steps[1][1]\n",
    "\n",
    "feature_names = []\n",
    "for i in pipeline.named_steps[\"feature_selection\"].get_support(True):\n",
    "    feature_names.append(gene_names[i])"
   ]
  },
  {
   "cell_type": "markdown",
   "metadata": {},
   "source": [
    "#### Predict and obtain confusion matrix"
   ]
  },
  {
   "cell_type": "code",
   "execution_count": null,
   "metadata": {},
   "outputs": [],
   "source": [
    "predictions = clf.predict(test[feature_names])\n",
    "predictions = np.array([target_map_dict[i] for i in predictions])\n",
    "actual = test[\"Tumor Type\"].values\n",
    "\n",
    "confusion_matrix = pd.crosstab(actual, predictions, rownames=['Actual Tumor Type'], colnames=['Predicted Tumor Type'])\n",
    "confusion_matrix.to_csv(\"/\".join((data_dir, \"CSV\", \"Confusion_maxdepth%i.csv\" % max_depth)))\n",
    "confusion_matrix"
   ]
  },
  {
   "cell_type": "markdown",
   "metadata": {},
   "source": [
    "#### View Feature Importance, save trees"
   ]
  },
  {
   "cell_type": "code",
   "execution_count": null,
   "metadata": {},
   "outputs": [],
   "source": [
    "feature_importance = list(zip(feature_names, clf.feature_importances_))\n",
    "for feature in feature_importance.copy():\n",
    "    if feature[1] == 0:\n",
    "        feature_importance.remove(feature)\n",
    "print(\"Number of importance features: %i\" % len(feature_importance))\n",
    "feature_importance = pd.DataFrame(feature_importance, columns=[\"Gene\", \"Relative Importance\"])\n",
    "feature_importance.set_index(\"Gene\", inplace=True)\n",
    "feature_importance.sort_values(by=['Relative Importance'], ascending=False, inplace=True)\n",
    "feature_importance.to_csv(\"/\".join((data_dir, \"CSV\", \"FeatureImportance_maxdepth%i.csv\" % max_depth)))\n",
    "feature_importance"
   ]
  },
  {
   "cell_type": "code",
   "execution_count": null,
   "metadata": {},
   "outputs": [],
   "source": [
    "for i, estimator in enumerate(clf.estimators_):\n",
    "    dot_data = tree.export_graphviz(estimator, out_file=None, \n",
    "                             feature_names=feature_names,  \n",
    "                             class_names=target_names,  \n",
    "                             filled=True, rounded=True,  \n",
    "                             special_characters=True)  \n",
    "    graph = graphviz.Source(dot_data)  \n",
    "    with open(\"/\".join((\"../Images\", \"Trees/Decision Tree %i.svg\")) % i, 'w') as f:\n",
    "        f.write(graph._repr_svg_())\n",
    "    if i == 1:\n",
    "        break\n",
    "graph"
   ]
  },
  {
   "cell_type": "markdown",
   "metadata": {},
   "source": [
    "#### Performance Evaluation"
   ]
  },
  {
   "cell_type": "code",
   "execution_count": null,
   "metadata": {
    "scrolled": true
   },
   "outputs": [],
   "source": [
    "n_classes = len(cancertypes)\n",
    "target_array_testing = label_binarize(target_array_testing, classes=[i for i in range(0, n_classes)])\n",
    "probs = clf.predict_proba(test[feature_names])\n",
    "\n",
    "fpr = dict()\n",
    "tpr = dict()\n",
    "roc_auc = dict()\n",
    "for i in range(0, n_classes):\n",
    "    fpr[i], tpr[i], _ = roc_curve(target_array_testing[:, i], probs[:, i])\n",
    "    roc_auc[i] = auc(fpr[i], tpr[i])\n",
    "    plt.plot(fpr[i], tpr[i],\n",
    "             label='ROC curve of class {0} (area = {1:0.2f})'\n",
    "             ''.format(target_map_dict[i], roc_auc[i]))\n",
    "plt.plot([0, 1], [0, 1], linestyle='--', lw=2, color='r', alpha=.8)\n",
    "plt.xlim([-0.05, 1.05])\n",
    "plt.ylim([-0.05, 1.05])\n",
    "plt.xlabel('False Positive Rate')\n",
    "plt.ylabel('True Positive Rate')\n",
    "title_str = 'ROC Max Depth %i.jpeg' % max_depth\n",
    "plt.title(title_str)\n",
    "plt.legend(loc=\"center right\", bbox_to_anchor=(1.75, 0.5))\n",
    "plt.show()"
   ]
  },
  {
   "cell_type": "code",
   "execution_count": null,
   "metadata": {},
   "outputs": [],
   "source": []
  }
 ],
 "metadata": {
  "kernelspec": {
   "display_name": "Python 3",
   "language": "python",
   "name": "python3"
  },
  "language_info": {
   "codemirror_mode": {
    "name": "ipython",
    "version": 3
   },
   "file_extension": ".py",
   "mimetype": "text/x-python",
   "name": "python",
   "nbconvert_exporter": "python",
   "pygments_lexer": "ipython3",
   "version": "3.7.0"
  },
  "latex_envs": {
   "LaTeX_envs_menu_present": true,
   "autoclose": false,
   "autocomplete": true,
   "bibliofile": "biblio.bib",
   "cite_by": "apalike",
   "current_citInitial": 1,
   "eqLabelWithNumbers": true,
   "eqNumInitial": 1,
   "hotkeys": {
    "equation": "Ctrl-E",
    "itemize": "Ctrl-I"
   },
   "labels_anchors": false,
   "latex_user_defs": false,
   "report_style_numbering": false,
   "user_envs_cfg": false
  }
 },
 "nbformat": 4,
 "nbformat_minor": 2
}
