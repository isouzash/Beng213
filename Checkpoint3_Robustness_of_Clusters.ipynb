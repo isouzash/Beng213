{
 "cells": [
  {
   "cell_type": "markdown",
   "metadata": {},
   "source": [
    "# Dataset"
   ]
  },
  {
   "cell_type": "code",
   "execution_count": 8,
   "metadata": {},
   "outputs": [],
   "source": [
    "data <- read.csv(\"C:/Users/isabel/Documents/BENG213_Dataset/CSV/Tumor_READ_FPKM.csv\", header=TRUE, sep=\",\")\n",
    "data_READ <- as.matrix(data) #READ Rectum adenocarcinoma: 4min to read"
   ]
  },
  {
   "cell_type": "code",
   "execution_count": 9,
   "metadata": {},
   "outputs": [],
   "source": [
    "data2 <- read.csv(\"C:/Users/isabel/Documents/BENG213_Dataset/CSV/Tumor_BRCA_FPKM.csv\", header=TRUE, sep=\",\")\n",
    "data_BRCA <- as.matrix(data2) # BRCA Breast invasive carcinoma: 6min to read"
   ]
  },
  {
   "cell_type": "code",
   "execution_count": 10,
   "metadata": {},
   "outputs": [],
   "source": [
    "data3 <- read.csv(\"C:/Users/isabel/Documents/BENG213_Dataset/CSV/Tumor_BLCA_FPKM.csv\", header=TRUE, sep=\",\")\n",
    "data_BLCA <- as.matrix(data3) # BLCA Bladder Urothelial Carcinoma: 3min to read"
   ]
  },
  {
   "cell_type": "code",
   "execution_count": 11,
   "metadata": {},
   "outputs": [],
   "source": [
    "data4 <- read.csv(\"C:/Users/isabel/Documents/BENG213_Dataset/CSV/Tumor_CESC_FPKM.csv\", header=TRUE, sep=\",\")\n",
    "data_CESC <- as.matrix(data4) # CESC Cervical squamous cell carcinoma and endocervical adenocarcinoma: 2min to read"
   ]
  },
  {
   "cell_type": "code",
   "execution_count": 12,
   "metadata": {},
   "outputs": [],
   "source": [
    "#data5 <- read.csv(\"C:/Users/isabel/Documents/BENG213_Dataset/CSV/Tumor_CHOL_FPKM.csv\", header=TRUE, sep=\",\")\n",
    "#data_CHOL <- as.matrix(data5) # CHOL Cholangiocarcinoma: min to read\n",
    "#### VERIFY DATASET"
   ]
  },
  {
   "cell_type": "code",
   "execution_count": 13,
   "metadata": {},
   "outputs": [],
   "source": [
    "data6 <- read.csv(\"C:/Users/isabel/Documents/BENG213_Dataset/CSV/Tumor_COAD_FPKM.csv\", header=TRUE, sep=\",\")\n",
    "data_COAD <- as.matrix(data6) # COAD Colon adenocarcinoma: min to read"
   ]
  },
  {
   "cell_type": "code",
   "execution_count": 14,
   "metadata": {},
   "outputs": [],
   "source": [
    "#data7 <- read.csv(\"C:/Users/isabel/Documents/BENG213_Dataset/CSV/Tumor_ESCA_FPKM.csv\", header=TRUE, sep=\",\")\n",
    "#data_ESCA <- as.matrix(data7) # ESCA Esophageal carcinoma: min to read\n",
    "#### VERIFY DATASET"
   ]
  },
  {
   "cell_type": "code",
   "execution_count": 15,
   "metadata": {},
   "outputs": [],
   "source": [
    "data8 <- read.csv(\"C:/Users/isabel/Documents/BENG213_Dataset/CSV/Tumor_GBM_FPKM.csv\", header=TRUE, sep=\",\")\n",
    "data_GBM <- as.matrix(data8) # GBM Glioblastoma multiforme: 3min to read"
   ]
  },
  {
   "cell_type": "code",
   "execution_count": 16,
   "metadata": {},
   "outputs": [],
   "source": [
    "data9 <- read.csv(\"C:/Users/isabel/Documents/BENG213_Dataset/CSV/Tumor_HNSC_FPKM.csv\", header=TRUE, sep=\",\")\n",
    "data_HNSC <- as.matrix(data9) # HNSC Head and Neck squamous cell carcinoma: 3min to read"
   ]
  },
  {
   "cell_type": "code",
   "execution_count": 17,
   "metadata": {},
   "outputs": [],
   "source": [
    "data10 <- read.csv(\"C:/Users/isabel/Documents/BENG213_Dataset/CSV/Tumor_KICH_FPKM.csv\", header=TRUE, sep=\",\")\n",
    "data_KICH <- as.matrix(data10) # KICH Kidney Chromophobe: 3min to read"
   ]
  },
  {
   "cell_type": "code",
   "execution_count": 18,
   "metadata": {},
   "outputs": [],
   "source": [
    "data11 <- read.csv(\"C:/Users/isabel/Documents/BENG213_Dataset/CSV/Tumor_KIRC_FPKM.csv\", header=TRUE, sep=\",\")\n",
    "data_KIRC <- as.matrix(data11) # KIRC Kidney renal clear cell carcinoma: 4min to read"
   ]
  },
  {
   "cell_type": "code",
   "execution_count": 19,
   "metadata": {},
   "outputs": [],
   "source": [
    "data12 <- read.csv(\"C:/Users/isabel/Documents/BENG213_Dataset/CSV/Tumor_KIRP_FPKM.csv\", header=TRUE, sep=\",\")\n",
    "data_KIRP <- as.matrix(data12) # KIRP Kidney renal papillary cell carcinoma: 4min to read"
   ]
  },
  {
   "cell_type": "code",
   "execution_count": 20,
   "metadata": {},
   "outputs": [],
   "source": [
    "data13 <- read.csv(\"C:/Users/isabel/Documents/BENG213_Dataset/CSV/Tumor_LIHC_FPKM.csv\", header=TRUE, sep=\",\")\n",
    "data_LIHC <- as.matrix(data13) # LIHC Liver hepatocellular carcinoma: 2min to read"
   ]
  },
  {
   "cell_type": "code",
   "execution_count": 21,
   "metadata": {},
   "outputs": [],
   "source": [
    "data14 <- read.csv(\"C:/Users/isabel/Documents/BENG213_Dataset/CSV/Tumor_LUAD_FPKM.csv\", header=TRUE, sep=\",\")\n",
    "data_LUAD <- as.matrix(data14) # LUAD Lung adenocarcinoma: 3min to read"
   ]
  },
  {
   "cell_type": "code",
   "execution_count": 22,
   "metadata": {},
   "outputs": [],
   "source": [
    "data15 <- read.csv(\"C:/Users/isabel/Documents/BENG213_Dataset/CSV/Tumor_LUSC_FPKM.csv\", header=TRUE, sep=\",\")\n",
    "data_LUSC <- as.matrix(data15) # LUSC Lung squamous cell carcinoma: 3min to read"
   ]
  },
  {
   "cell_type": "code",
   "execution_count": 23,
   "metadata": {},
   "outputs": [],
   "source": [
    "#data16 <- read.csv(\"C:/Users/isabel/Documents/BENG213_Dataset/CSV/Tumor_PAAD_FPKM.csv\", header=TRUE, sep=\",\")\n",
    "#data_PAAD <- as.matrix(data16) # PAAD Pancreatic adenocarcinoma: min to read\n",
    "### VERIFY DATASET"
   ]
  },
  {
   "cell_type": "code",
   "execution_count": 24,
   "metadata": {},
   "outputs": [],
   "source": [
    "#data17 <- read.csv(\"C:/Users/isabel/Documents/BENG213_Dataset/CSV/Tumor_PCPG_FPKM.csv\", header=TRUE, sep=\",\")\n",
    "#data_PCPG <- as.matrix(data17) # PCPG Pheochromocytoma and Paraganglioma: min to read\n",
    "### VERIFY DATASET"
   ]
  },
  {
   "cell_type": "code",
   "execution_count": 25,
   "metadata": {},
   "outputs": [],
   "source": [
    "data18 <- read.csv(\"C:/Users/isabel/Documents/BENG213_Dataset/CSV/Tumor_PRAD_FPKM.csv\", header=TRUE, sep=\",\")\n",
    "data_PRAD <- as.matrix(data18) # PRAD Prostate adenocarcinoma: 2min to read"
   ]
  },
  {
   "cell_type": "code",
   "execution_count": 26,
   "metadata": {},
   "outputs": [],
   "source": [
    "#data19 <- read.csv(\"C:/Users/isabel/Documents/BENG213_Dataset/CSV/Tumor_SARC_FPKM.csv\", header=TRUE, sep=\",\")\n",
    "#data_SARC <- as.matrix(data19) # SARC Sarcoma: min to read\n",
    "### VERIFY DATASET"
   ]
  },
  {
   "cell_type": "code",
   "execution_count": 27,
   "metadata": {},
   "outputs": [],
   "source": [
    "data20 <- read.csv(\"C:/Users/isabel/Documents/BENG213_Dataset/CSV/Tumor_SKCM_FPKM.csv\", header=TRUE, sep=\",\")\n",
    "data_SKCM <- as.matrix(data20) # SKCM Skin Cutaneous Melanoma: 3min to read"
   ]
  },
  {
   "cell_type": "code",
   "execution_count": 28,
   "metadata": {},
   "outputs": [],
   "source": [
    "data21 <- read.csv(\"C:/Users/isabel/Documents/BENG213_Dataset/CSV/Tumor_STAD_FPKM.csv\", header=TRUE, sep=\",\")\n",
    "data_STAD <- as.matrix(data21) # STAD Stomach adenocarcinoma: 3min to read"
   ]
  },
  {
   "cell_type": "code",
   "execution_count": 29,
   "metadata": {},
   "outputs": [],
   "source": [
    "data22 <- read.csv(\"C:/Users/isabel/Documents/BENG213_Dataset/CSV/Tumor_THCA_FPKM.csv\", header=TRUE, sep=\",\")\n",
    "data_THCA <- as.matrix(data22) # THCA Thyroid carcinoma: 3min to read"
   ]
  },
  {
   "cell_type": "code",
   "execution_count": 30,
   "metadata": {},
   "outputs": [],
   "source": [
    "#data23 <- read.csv(\"C:/Users/isabel/Documents/BENG213_Dataset/CSV/Tumor_THYM_FPKM.csv\", header=TRUE, sep=\",\")\n",
    "#data_THYM <- as.matrix(data23) # THYM Thymoma: min to read\n",
    "###VERIFY DATASET"
   ]
  },
  {
   "cell_type": "code",
   "execution_count": 31,
   "metadata": {},
   "outputs": [],
   "source": [
    "data24 <- read.csv(\"C:/Users/isabel/Documents/BENG213_Dataset/CSV/Tumor_UCEC_FPKM.csv\", header=TRUE, sep=\",\")\n",
    "data_UCEC <- as.matrix(data24) # UCEC Uterine Corpus Endometrial Carcinoma: 2min to read"
   ]
  },
  {
   "cell_type": "code",
   "execution_count": 32,
   "metadata": {},
   "outputs": [
    {
     "data": {
      "text/html": [
       "<ol class=list-inline>\n",
       "\t<li>167</li>\n",
       "\t<li>23370</li>\n",
       "</ol>\n"
      ],
      "text/latex": [
       "\\begin{enumerate*}\n",
       "\\item 167\n",
       "\\item 23370\n",
       "\\end{enumerate*}\n"
      ],
      "text/markdown": [
       "1. 167\n",
       "2. 23370\n",
       "\n",
       "\n"
      ],
      "text/plain": [
       "[1]   167 23370"
      ]
     },
     "metadata": {},
     "output_type": "display_data"
    },
    {
     "data": {
      "text/html": [
       "<ol class=list-inline>\n",
       "\t<li>1119</li>\n",
       "\t<li>23370</li>\n",
       "</ol>\n"
      ],
      "text/latex": [
       "\\begin{enumerate*}\n",
       "\\item 1119\n",
       "\\item 23370\n",
       "\\end{enumerate*}\n"
      ],
      "text/markdown": [
       "1. 1119\n",
       "2. 23370\n",
       "\n",
       "\n"
      ],
      "text/plain": [
       "[1]  1119 23370"
      ]
     },
     "metadata": {},
     "output_type": "display_data"
    },
    {
     "data": {
      "text/html": [
       "<ol class=list-inline>\n",
       "\t<li>414</li>\n",
       "\t<li>23370</li>\n",
       "</ol>\n"
      ],
      "text/latex": [
       "\\begin{enumerate*}\n",
       "\\item 414\n",
       "\\item 23370\n",
       "\\end{enumerate*}\n"
      ],
      "text/markdown": [
       "1. 414\n",
       "2. 23370\n",
       "\n",
       "\n"
      ],
      "text/plain": [
       "[1]   414 23370"
      ]
     },
     "metadata": {},
     "output_type": "display_data"
    },
    {
     "data": {
      "text/html": [
       "<ol class=list-inline>\n",
       "\t<li>306</li>\n",
       "\t<li>23370</li>\n",
       "</ol>\n"
      ],
      "text/latex": [
       "\\begin{enumerate*}\n",
       "\\item 306\n",
       "\\item 23370\n",
       "\\end{enumerate*}\n"
      ],
      "text/markdown": [
       "1. 306\n",
       "2. 23370\n",
       "\n",
       "\n"
      ],
      "text/plain": [
       "[1]   306 23370"
      ]
     },
     "metadata": {},
     "output_type": "display_data"
    },
    {
     "data": {
      "text/html": [
       "<ol class=list-inline>\n",
       "\t<li>483</li>\n",
       "\t<li>23370</li>\n",
       "</ol>\n"
      ],
      "text/latex": [
       "\\begin{enumerate*}\n",
       "\\item 483\n",
       "\\item 23370\n",
       "\\end{enumerate*}\n"
      ],
      "text/markdown": [
       "1. 483\n",
       "2. 23370\n",
       "\n",
       "\n"
      ],
      "text/plain": [
       "[1]   483 23370"
      ]
     },
     "metadata": {},
     "output_type": "display_data"
    },
    {
     "data": {
      "text/html": [
       "<ol class=list-inline>\n",
       "\t<li>170</li>\n",
       "\t<li>23370</li>\n",
       "</ol>\n"
      ],
      "text/latex": [
       "\\begin{enumerate*}\n",
       "\\item 170\n",
       "\\item 23370\n",
       "\\end{enumerate*}\n"
      ],
      "text/markdown": [
       "1. 170\n",
       "2. 23370\n",
       "\n",
       "\n"
      ],
      "text/plain": [
       "[1]   170 23370"
      ]
     },
     "metadata": {},
     "output_type": "display_data"
    },
    {
     "data": {
      "text/html": [
       "<ol class=list-inline>\n",
       "\t<li>504</li>\n",
       "\t<li>23370</li>\n",
       "</ol>\n"
      ],
      "text/latex": [
       "\\begin{enumerate*}\n",
       "\\item 504\n",
       "\\item 23370\n",
       "\\end{enumerate*}\n"
      ],
      "text/markdown": [
       "1. 504\n",
       "2. 23370\n",
       "\n",
       "\n"
      ],
      "text/plain": [
       "[1]   504 23370"
      ]
     },
     "metadata": {},
     "output_type": "display_data"
    },
    {
     "data": {
      "text/html": [
       "<ol class=list-inline>\n",
       "\t<li>66</li>\n",
       "\t<li>23370</li>\n",
       "</ol>\n"
      ],
      "text/latex": [
       "\\begin{enumerate*}\n",
       "\\item 66\n",
       "\\item 23370\n",
       "\\end{enumerate*}\n"
      ],
      "text/markdown": [
       "1. 66\n",
       "2. 23370\n",
       "\n",
       "\n"
      ],
      "text/plain": [
       "[1]    66 23370"
      ]
     },
     "metadata": {},
     "output_type": "display_data"
    },
    {
     "data": {
      "text/html": [
       "<ol class=list-inline>\n",
       "\t<li>542</li>\n",
       "\t<li>23370</li>\n",
       "</ol>\n"
      ],
      "text/latex": [
       "\\begin{enumerate*}\n",
       "\\item 542\n",
       "\\item 23370\n",
       "\\end{enumerate*}\n"
      ],
      "text/markdown": [
       "1. 542\n",
       "2. 23370\n",
       "\n",
       "\n"
      ],
      "text/plain": [
       "[1]   542 23370"
      ]
     },
     "metadata": {},
     "output_type": "display_data"
    },
    {
     "data": {
      "text/html": [
       "<ol class=list-inline>\n",
       "\t<li>291</li>\n",
       "\t<li>23370</li>\n",
       "</ol>\n"
      ],
      "text/latex": [
       "\\begin{enumerate*}\n",
       "\\item 291\n",
       "\\item 23370\n",
       "\\end{enumerate*}\n"
      ],
      "text/markdown": [
       "1. 291\n",
       "2. 23370\n",
       "\n",
       "\n"
      ],
      "text/plain": [
       "[1]   291 23370"
      ]
     },
     "metadata": {},
     "output_type": "display_data"
    },
    {
     "data": {
      "text/html": [
       "<ol class=list-inline>\n",
       "\t<li>374</li>\n",
       "\t<li>23370</li>\n",
       "</ol>\n"
      ],
      "text/latex": [
       "\\begin{enumerate*}\n",
       "\\item 374\n",
       "\\item 23370\n",
       "\\end{enumerate*}\n"
      ],
      "text/markdown": [
       "1. 374\n",
       "2. 23370\n",
       "\n",
       "\n"
      ],
      "text/plain": [
       "[1]   374 23370"
      ]
     },
     "metadata": {},
     "output_type": "display_data"
    },
    {
     "data": {
      "text/html": [
       "<ol class=list-inline>\n",
       "\t<li>541</li>\n",
       "\t<li>23370</li>\n",
       "</ol>\n"
      ],
      "text/latex": [
       "\\begin{enumerate*}\n",
       "\\item 541\n",
       "\\item 23370\n",
       "\\end{enumerate*}\n"
      ],
      "text/markdown": [
       "1. 541\n",
       "2. 23370\n",
       "\n",
       "\n"
      ],
      "text/plain": [
       "[1]   541 23370"
      ]
     },
     "metadata": {},
     "output_type": "display_data"
    },
    {
     "data": {
      "text/html": [
       "<ol class=list-inline>\n",
       "\t<li>502</li>\n",
       "\t<li>23370</li>\n",
       "</ol>\n"
      ],
      "text/latex": [
       "\\begin{enumerate*}\n",
       "\\item 502\n",
       "\\item 23370\n",
       "\\end{enumerate*}\n"
      ],
      "text/markdown": [
       "1. 502\n",
       "2. 23370\n",
       "\n",
       "\n"
      ],
      "text/plain": [
       "[1]   502 23370"
      ]
     },
     "metadata": {},
     "output_type": "display_data"
    },
    {
     "data": {
      "text/html": [
       "<ol class=list-inline>\n",
       "\t<li>502</li>\n",
       "\t<li>23370</li>\n",
       "</ol>\n"
      ],
      "text/latex": [
       "\\begin{enumerate*}\n",
       "\\item 502\n",
       "\\item 23370\n",
       "\\end{enumerate*}\n"
      ],
      "text/markdown": [
       "1. 502\n",
       "2. 23370\n",
       "\n",
       "\n"
      ],
      "text/plain": [
       "[1]   502 23370"
      ]
     },
     "metadata": {},
     "output_type": "display_data"
    },
    {
     "data": {
      "text/html": [
       "<ol class=list-inline>\n",
       "\t<li>472</li>\n",
       "\t<li>23370</li>\n",
       "</ol>\n"
      ],
      "text/latex": [
       "\\begin{enumerate*}\n",
       "\\item 472\n",
       "\\item 23370\n",
       "\\end{enumerate*}\n"
      ],
      "text/markdown": [
       "1. 472\n",
       "2. 23370\n",
       "\n",
       "\n"
      ],
      "text/plain": [
       "[1]   472 23370"
      ]
     },
     "metadata": {},
     "output_type": "display_data"
    },
    {
     "data": {
      "text/html": [
       "<ol class=list-inline>\n",
       "\t<li>420</li>\n",
       "\t<li>23370</li>\n",
       "</ol>\n"
      ],
      "text/latex": [
       "\\begin{enumerate*}\n",
       "\\item 420\n",
       "\\item 23370\n",
       "\\end{enumerate*}\n"
      ],
      "text/markdown": [
       "1. 420\n",
       "2. 23370\n",
       "\n",
       "\n"
      ],
      "text/plain": [
       "[1]   420 23370"
      ]
     },
     "metadata": {},
     "output_type": "display_data"
    },
    {
     "data": {
      "text/html": [
       "<ol class=list-inline>\n",
       "\t<li>513</li>\n",
       "\t<li>23370</li>\n",
       "</ol>\n"
      ],
      "text/latex": [
       "\\begin{enumerate*}\n",
       "\\item 513\n",
       "\\item 23370\n",
       "\\end{enumerate*}\n"
      ],
      "text/markdown": [
       "1. 513\n",
       "2. 23370\n",
       "\n",
       "\n"
      ],
      "text/plain": [
       "[1]   513 23370"
      ]
     },
     "metadata": {},
     "output_type": "display_data"
    },
    {
     "data": {
      "text/html": [
       "<ol class=list-inline>\n",
       "\t<li>554</li>\n",
       "\t<li>23370</li>\n",
       "</ol>\n"
      ],
      "text/latex": [
       "\\begin{enumerate*}\n",
       "\\item 554\n",
       "\\item 23370\n",
       "\\end{enumerate*}\n"
      ],
      "text/markdown": [
       "1. 554\n",
       "2. 23370\n",
       "\n",
       "\n"
      ],
      "text/plain": [
       "[1]   554 23370"
      ]
     },
     "metadata": {},
     "output_type": "display_data"
    }
   ],
   "source": [
    "dim(data_READ)\n",
    "dim(data_BRCA)\n",
    "dim(data_BLCA)\n",
    "dim(data_CESC)\n",
    "#dim(data_CHOL)\n",
    "dim(data_COAD)\n",
    "#dim(data_ESCA)\n",
    "dim(data_GBM)\n",
    "dim(data_HNSC)\n",
    "dim(data_KICH)\n",
    "dim(data_KIRC)\n",
    "dim(data_KIRP)\n",
    "dim(data_LIHC)\n",
    "dim(data_LUAD)\n",
    "dim(data_LUSC)\n",
    "#dim(data_PAAD)\n",
    "#dim(data_PCPG)\n",
    "dim(data_PRAD)\n",
    "#dim(data_SARC)\n",
    "dim(data_SKCM)\n",
    "dim(data_STAD)\n",
    "dim(data_THCA)\n",
    "#dim(data_THYM)\n",
    "dim(data_UCEC)"
   ]
  },
  {
   "cell_type": "code",
   "execution_count": 41,
   "metadata": {},
   "outputs": [],
   "source": [
    "C<-rbind(data_READ[1:nrow(data_READ),1:ncol(data_READ)], \n",
    "         data_BRCA[1:nrow(data_BRCA),1:ncol(data_BRCA)], \n",
    "         data_BLCA[1:nrow(data_BLCA),1:ncol(data_BLCA)],\n",
    "         data_CESC[1:nrow(data_CESC),1:ncol(data_CESC)],\n",
    "         data_COAD[1:nrow(data_COAD),1:ncol(data_COAD)],\n",
    "         data_GBM[1:nrow(data_GBM),1:ncol(data_GBM)],\n",
    "         data_HNSC[1:nrow(data_HNSC),1:ncol(data_HNSC)],\n",
    "         data_KICH[1:nrow(data_KICH),1:ncol(data_KICH)],\n",
    "         data_KIRC[1:nrow(data_KIRC),1:ncol(data_KIRC)],\n",
    "         data_KIRP[1:nrow(data_KIRP),1:ncol(data_KIRP)], \n",
    "         data_LIHC[1:nrow(data_LIHC),1:ncol(data_LIHC)], \n",
    "         data_LUAD[1:nrow(data_LUAD),1:ncol(data_LUAD)],\n",
    "         data_LUSC[1:nrow(data_LUSC),1:ncol(data_LUSC)],\n",
    "         data_PRAD[1:nrow(data_PRAD),1:ncol(data_PRAD)],\n",
    "         data_SKCM[1:nrow(data_SKCM),1:ncol(data_SKCM)],\n",
    "         data_STAD[1:nrow(data_STAD),1:ncol(data_STAD)],\n",
    "         data_THCA[1:nrow(data_THCA),1:ncol(data_THCA)],\n",
    "         data_UCEC[1:nrow(data_UCEC),1:ncol(data_UCEC)])\n",
    "#18 types of cancer\n",
    "write.csv(C, file = \"C:/Users/isabel/Documents/BENG213_Dataset/CSV/C.csv\")"
   ]
  },
  {
   "cell_type": "code",
   "execution_count": null,
   "metadata": {},
   "outputs": [],
   "source": [
    "C <- read.csv(\"C:/Users/isabel/Documents/BENG213_Dataset/CSV/C.csv\",sep=\",\",row.names=1)"
   ]
  },
  {
   "cell_type": "code",
   "execution_count": 2,
   "metadata": {},
   "outputs": [],
   "source": [
    "data <- as.matrix(C[, -1:-2])"
   ]
  },
  {
   "cell_type": "code",
   "execution_count": 4,
   "metadata": {},
   "outputs": [
    {
     "name": "stdout",
     "output_type": "stream",
     "text": [
      "package 'clValid' successfully unpacked and MD5 sums checked\n",
      "\n",
      "The downloaded binary packages are in\n",
      "\tC:\\Users\\isabel\\AppData\\Local\\Temp\\Rtmp8sUece\\downloaded_packages\n"
     ]
    }
   ],
   "source": [
    "install.packages(\"clValid\")"
   ]
  },
  {
   "cell_type": "code",
   "execution_count": 6,
   "metadata": {},
   "outputs": [],
   "source": [
    "library(clValid)"
   ]
  },
  {
   "cell_type": "code",
   "execution_count": 8,
   "metadata": {},
   "outputs": [],
   "source": [
    "clmethods <- c(\"hierarchical\",\"kmeans\")"
   ]
  },
  {
   "cell_type": "code",
   "execution_count": null,
   "metadata": {},
   "outputs": [],
   "source": [
    "intern <- clValid(data, nClust = 2:18, clMethods = clmethods, maxitems = 10000, validation = \"internal\")"
   ]
  },
  {
   "cell_type": "code",
   "execution_count": null,
   "metadata": {},
   "outputs": [],
   "source": [
    "summary(intern)"
   ]
  },
  {
   "cell_type": "code",
   "execution_count": null,
   "metadata": {},
   "outputs": [],
   "source": [
    "plot(intern)"
   ]
  },
  {
   "cell_type": "code",
   "execution_count": null,
   "metadata": {},
   "outputs": [],
   "source": [
    "# Stability measures\n",
    "stab <- clValid(exprs, nClust = 2:6, clMethods = clmethods,\n",
    "                validation = \"stability\")"
   ]
  },
  {
   "cell_type": "code",
   "execution_count": null,
   "metadata": {},
   "outputs": [],
   "source": [
    "# Display only optimal Scores\n",
    "optimalScores(stab)"
   ]
  },
  {
   "cell_type": "code",
   "execution_count": null,
   "metadata": {},
   "outputs": [],
   "source": [
    "summary(stab)\n",
    "plot(stab)"
   ]
  }
 ],
 "metadata": {
  "kernelspec": {
   "display_name": "R",
   "language": "R",
   "name": "ir"
  },
  "language_info": {
   "codemirror_mode": "r",
   "file_extension": ".r",
   "mimetype": "text/x-r-source",
   "name": "R",
   "pygments_lexer": "r",
   "version": "3.4.3"
  }
 },
 "nbformat": 4,
 "nbformat_minor": 2
}
